{
 "cells": [
  {
   "cell_type": "code",
   "execution_count": 1,
   "metadata": {
    "collapsed": true
   },
   "outputs": [],
   "source": [
    "import numpy as np\n",
    "import pandas as pd\n",
    "from ggplot import *"
   ]
  },
  {
   "cell_type": "code",
   "execution_count": 2,
   "metadata": {
    "collapsed": false
   },
   "outputs": [],
   "source": [
    "dataUsers = pd.read_csv(\"output/Users.csv\")"
   ]
  },
  {
   "cell_type": "code",
   "execution_count": 3,
   "metadata": {
    "collapsed": false
   },
   "outputs": [],
   "source": [
    "dataUsers.RegisterDate = dataUsers.RegisterDate.apply(lambda x: pd.to_datetime(x[0:10]))"
   ]
  },
  {
   "cell_type": "code",
   "execution_count": 4,
   "metadata": {
    "collapsed": false
   },
   "outputs": [
    {
     "name": "stdout",
     "output_type": "stream",
     "text": [
      "Tier\n",
      "0         48\n",
      "1     258863\n",
      "2      45992\n",
      "3      28378\n",
      "4      31960\n",
      "10       637\n",
      "dtype: int64\n"
     ]
    }
   ],
   "source": [
    "A = dataUsers.groupby('Tier')\n",
    "print (A.apply(lambda x: len(x)))"
   ]
  },
  {
   "cell_type": "code",
   "execution_count": 5,
   "metadata": {
    "collapsed": true
   },
   "outputs": [],
   "source": [
    "def catTiers(x):\n",
    "    if x == 0:\n",
    "        return \"Not Approved\"\n",
    "    elif x == 1:\n",
    "        return \"Not Approved\"\n",
    "    elif x == 2:\n",
    "        return \"Not Approved\"\n",
    "    elif x == 3:\n",
    "        return \"Novice\"\n",
    "    elif x == 4:\n",
    "        return \"Kaggler\"\n",
    "    elif x == 10:\n",
    "        return \"Master\"\n",
    "    else:\n",
    "        return"
   ]
  },
  {
   "cell_type": "code",
   "execution_count": 6,
   "metadata": {
    "collapsed": true
   },
   "outputs": [],
   "source": [
    "dataUsers['Tier2'] = dataUsers['Tier']\n",
    "dataUsers['Tier'] = dataUsers.Tier2.apply(lambda x : catTiers(x))"
   ]
  },
  {
   "cell_type": "code",
   "execution_count": 7,
   "metadata": {
    "collapsed": true
   },
   "outputs": [],
   "source": [
    "dataUsers = dataUsers[dataUsers.Tier != \"Not Approved\"]"
   ]
  },
  {
   "cell_type": "code",
   "execution_count": 8,
   "metadata": {
    "collapsed": false
   },
   "outputs": [
    {
     "data": {
      "text/html": [
       "<div>\n",
       "<table border=\"1\" class=\"dataframe\">\n",
       "  <thead>\n",
       "    <tr style=\"text-align: right;\">\n",
       "      <th></th>\n",
       "      <th>Id</th>\n",
       "      <th>UserName</th>\n",
       "      <th>DisplayName</th>\n",
       "      <th>RegisterDate</th>\n",
       "      <th>Points</th>\n",
       "      <th>Ranking</th>\n",
       "      <th>Tier</th>\n",
       "      <th>HighestRanking</th>\n",
       "      <th>Tier2</th>\n",
       "    </tr>\n",
       "  </thead>\n",
       "  <tbody>\n",
       "    <tr>\n",
       "      <th>1</th>\n",
       "      <td>368</td>\n",
       "      <td>anthonyg</td>\n",
       "      <td>Anthony Goldbloom (Kaggle)</td>\n",
       "      <td>2010-01-20</td>\n",
       "      <td>1198.400024</td>\n",
       "      <td>5242</td>\n",
       "      <td>Kaggler</td>\n",
       "      <td>75</td>\n",
       "      <td>4</td>\n",
       "    </tr>\n",
       "    <tr>\n",
       "      <th>2</th>\n",
       "      <td>381</td>\n",
       "      <td>iguyon</td>\n",
       "      <td>Isabelle</td>\n",
       "      <td>2010-01-29</td>\n",
       "      <td>579.099976</td>\n",
       "      <td>9818</td>\n",
       "      <td>Kaggler</td>\n",
       "      <td>2824</td>\n",
       "      <td>4</td>\n",
       "    </tr>\n",
       "    <tr>\n",
       "      <th>12</th>\n",
       "      <td>392</td>\n",
       "      <td>jmeynet</td>\n",
       "      <td>Montblanc</td>\n",
       "      <td>2010-02-03</td>\n",
       "      <td>13598.099609</td>\n",
       "      <td>417</td>\n",
       "      <td>Master</td>\n",
       "      <td>85</td>\n",
       "      <td>10</td>\n",
       "    </tr>\n",
       "    <tr>\n",
       "      <th>14</th>\n",
       "      <td>394</td>\n",
       "      <td>NaN</td>\n",
       "      <td>m4xl1n</td>\n",
       "      <td>2010-02-03</td>\n",
       "      <td>1961.599976</td>\n",
       "      <td>3346</td>\n",
       "      <td>Kaggler</td>\n",
       "      <td>9</td>\n",
       "      <td>4</td>\n",
       "    </tr>\n",
       "    <tr>\n",
       "      <th>16</th>\n",
       "      <td>397</td>\n",
       "      <td>gdupont</td>\n",
       "      <td>gérard dupont</td>\n",
       "      <td>2010-02-04</td>\n",
       "      <td>302.000000</td>\n",
       "      <td>16085</td>\n",
       "      <td>Kaggler</td>\n",
       "      <td>15934</td>\n",
       "      <td>4</td>\n",
       "    </tr>\n",
       "  </tbody>\n",
       "</table>\n",
       "</div>"
      ],
      "text/plain": [
       "     Id  UserName                 DisplayName RegisterDate        Points  \\\n",
       "1   368  anthonyg  Anthony Goldbloom (Kaggle)   2010-01-20   1198.400024   \n",
       "2   381    iguyon                    Isabelle   2010-01-29    579.099976   \n",
       "12  392   jmeynet                   Montblanc   2010-02-03  13598.099609   \n",
       "14  394       NaN                      m4xl1n   2010-02-03   1961.599976   \n",
       "16  397   gdupont               gérard dupont   2010-02-04    302.000000   \n",
       "\n",
       "    Ranking     Tier  HighestRanking  Tier2  \n",
       "1      5242  Kaggler              75      4  \n",
       "2      9818  Kaggler            2824      4  \n",
       "12      417   Master              85     10  \n",
       "14     3346  Kaggler               9      4  \n",
       "16    16085  Kaggler           15934      4  "
      ]
     },
     "execution_count": 8,
     "metadata": {},
     "output_type": "execute_result"
    }
   ],
   "source": [
    "dataUsers.head()"
   ]
  },
  {
   "cell_type": "code",
   "execution_count": null,
   "metadata": {
    "collapsed": false
   },
   "outputs": [],
   "source": [
    "c = ggplot(aes(x='RegisterDate',y = 'Points', color = 'Tier'), data=dataUsers)\n",
    "c + geom_point() + scale_color_brewer(type = 'qual', palette = 3)"
   ]
  },
  {
   "cell_type": "code",
   "execution_count": null,
   "metadata": {
    "collapsed": false
   },
   "outputs": [],
   "source": [
    "c = ggplot(aes(x='Id',y = 'Points', color = 'Tier'), data=dataUsers)\n",
    "c + geom_point() + scale_color_brewer(type = 'qual', palette = 3)"
   ]
  },
  {
   "cell_type": "code",
   "execution_count": null,
   "metadata": {
    "collapsed": false
   },
   "outputs": [],
   "source": [
    "c = ggplot(aes(x='RegisterDate',y = 'Id', color = 'Tier', size = 'Tier2'), data=dataUsers)\n",
    "c + geom_point() "
   ]
  }
 ],
 "metadata": {
  "kernelspec": {
   "display_name": "Python 2",
   "language": "python",
   "name": "python2"
  },
  "language_info": {
   "codemirror_mode": {
    "name": "ipython",
    "version": 2
   },
   "file_extension": ".py",
   "mimetype": "text/x-python",
   "name": "python",
   "nbconvert_exporter": "python",
   "pygments_lexer": "ipython2",
   "version": "2.7.5"
  }
 },
 "nbformat": 4,
 "nbformat_minor": 0
}
