{
 "cells": [
  {
   "cell_type": "code",
   "execution_count": 1,
   "metadata": {
    "collapsed": true
   },
   "outputs": [],
   "source": [
    "import numpy as np\n",
    "import pandas as pd\n",
    "from ggplot import *"
   ]
  },
  {
   "cell_type": "code",
   "execution_count": 2,
   "metadata": {
    "collapsed": false
   },
   "outputs": [
    {
     "name": "stderr",
     "output_type": "stream",
     "text": [
      "/Library/Python/2.7/site-packages/pandas/io/parsers.py:1170: DtypeWarning: Columns (4,5,9) have mixed types. Specify dtype option on import or set low_memory=False.\n",
      "  data = self._reader.read(nrows)\n"
     ]
    }
   ],
   "source": [
    "dataComp = pd.read_csv(\"output/competitions.csv\")\n",
    "dataSubm = pd.read_csv(\"output/submissions.csv\")\n",
    "dataEval = pd.read_csv(\"output/EvaluationAlgorithms.csv\")\n",
    "dataTeams = pd.read_csv(\"output/Teams.csv\")\n",
    "dataUsers = pd.read_csv(\"output/Users.csv\")"
   ]
  },
  {
   "cell_type": "code",
   "execution_count": 3,
   "metadata": {
    "collapsed": true
   },
   "outputs": [],
   "source": [
    "dataComp.DateEnabled = dataComp.DateEnabled.apply(lambda x: pd.to_datetime(x[0:10]))\n",
    "dataComp.Deadline = dataComp.Deadline.apply(lambda x: pd.to_datetime(x[0:10]))"
   ]
  },
  {
   "cell_type": "code",
   "execution_count": 4,
   "metadata": {
    "collapsed": false
   },
   "outputs": [
    {
     "name": "stdout",
     "output_type": "stream",
     "text": [
      "EvaluationAlgorithmId\n",
      "5     46\n",
      "2     36\n",
      "14    36\n",
      "6     16\n",
      "25    11\n",
      "dtype: int64\n",
      "239\n"
     ]
    }
   ],
   "source": [
    "EvalAlgs = (dataComp.groupby('EvaluationAlgorithmId').apply(lambda x: len(x)))\n",
    "EvalAlgs.sort(ascending = 0)\n",
    "print (EvalAlgs.head())\n",
    "print (EvalAlgs.sum())"
   ]
  },
  {
   "cell_type": "code",
   "execution_count": 5,
   "metadata": {
    "collapsed": false
   },
   "outputs": [
    {
     "data": {
      "text/html": [
       "<div>\n",
       "<table border=\"1\" class=\"dataframe\">\n",
       "  <thead>\n",
       "    <tr style=\"text-align: right;\">\n",
       "      <th></th>\n",
       "      <th>Id</th>\n",
       "      <th>Abbreviation</th>\n",
       "      <th>Name</th>\n",
       "      <th>Description</th>\n",
       "      <th>IsMax</th>\n",
       "    </tr>\n",
       "  </thead>\n",
       "  <tbody>\n",
       "    <tr>\n",
       "      <th>3</th>\n",
       "      <td>5</td>\n",
       "      <td>AUC</td>\n",
       "      <td>Area Under Receiver Operating Characteristic C...</td>\n",
       "      <td>Measures discrimination. Calculates how well a...</td>\n",
       "      <td>True</td>\n",
       "    </tr>\n",
       "  </tbody>\n",
       "</table>\n",
       "</div>"
      ],
      "text/plain": [
       "   Id Abbreviation                                               Name  \\\n",
       "3   5          AUC  Area Under Receiver Operating Characteristic C...   \n",
       "\n",
       "                                         Description IsMax  \n",
       "3  Measures discrimination. Calculates how well a...  True  "
      ]
     },
     "execution_count": 5,
     "metadata": {},
     "output_type": "execute_result"
    }
   ],
   "source": [
    "dataEval[dataEval.Id == 5]"
   ]
  },
  {
   "cell_type": "code",
   "execution_count": 6,
   "metadata": {
    "collapsed": false
   },
   "outputs": [
    {
     "data": {
      "text/html": [
       "<div>\n",
       "<table border=\"1\" class=\"dataframe\">\n",
       "  <thead>\n",
       "    <tr style=\"text-align: right;\">\n",
       "      <th></th>\n",
       "      <th>Id</th>\n",
       "      <th>Abbreviation</th>\n",
       "      <th>Name</th>\n",
       "      <th>Description</th>\n",
       "      <th>IsMax</th>\n",
       "    </tr>\n",
       "  </thead>\n",
       "  <tbody>\n",
       "    <tr>\n",
       "      <th>1</th>\n",
       "      <td>2</td>\n",
       "      <td>RMSE</td>\n",
       "      <td>Root Mean Squared Error</td>\n",
       "      <td>Square root of the average of the squared erro...</td>\n",
       "      <td>False</td>\n",
       "    </tr>\n",
       "  </tbody>\n",
       "</table>\n",
       "</div>"
      ],
      "text/plain": [
       "   Id Abbreviation                     Name  \\\n",
       "1   2         RMSE  Root Mean Squared Error   \n",
       "\n",
       "                                         Description  IsMax  \n",
       "1  Square root of the average of the squared erro...  False  "
      ]
     },
     "execution_count": 6,
     "metadata": {},
     "output_type": "execute_result"
    }
   ],
   "source": [
    "dataEval[dataEval.Id == 2]"
   ]
  },
  {
   "cell_type": "code",
   "execution_count": 7,
   "metadata": {
    "collapsed": false
   },
   "outputs": [
    {
     "data": {
      "text/html": [
       "<div>\n",
       "<table border=\"1\" class=\"dataframe\">\n",
       "  <thead>\n",
       "    <tr style=\"text-align: right;\">\n",
       "      <th></th>\n",
       "      <th>Id</th>\n",
       "      <th>Abbreviation</th>\n",
       "      <th>Name</th>\n",
       "      <th>Description</th>\n",
       "      <th>IsMax</th>\n",
       "    </tr>\n",
       "  </thead>\n",
       "  <tbody>\n",
       "    <tr>\n",
       "      <th>8</th>\n",
       "      <td>14</td>\n",
       "      <td>CategorizationAccuracy</td>\n",
       "      <td>Categorization Accuracy</td>\n",
       "      <td>Percentage of correctly categorized items</td>\n",
       "      <td>True</td>\n",
       "    </tr>\n",
       "  </tbody>\n",
       "</table>\n",
       "</div>"
      ],
      "text/plain": [
       "   Id            Abbreviation                     Name  \\\n",
       "8  14  CategorizationAccuracy  Categorization Accuracy   \n",
       "\n",
       "                                 Description IsMax  \n",
       "8  Percentage of correctly categorized items  True  "
      ]
     },
     "execution_count": 7,
     "metadata": {},
     "output_type": "execute_result"
    }
   ],
   "source": [
    "dataEval[dataEval.Id == 14]"
   ]
  },
  {
   "cell_type": "code",
   "execution_count": 40,
   "metadata": {
    "collapsed": false
   },
   "outputs": [
    {
     "data": {
      "text/html": [
       "<div>\n",
       "<table border=\"1\" class=\"dataframe\">\n",
       "  <thead>\n",
       "    <tr style=\"text-align: right;\">\n",
       "      <th></th>\n",
       "      <th>Id</th>\n",
       "      <th>Abbreviation</th>\n",
       "      <th>Name</th>\n",
       "      <th>Description</th>\n",
       "      <th>IsMax</th>\n",
       "    </tr>\n",
       "  </thead>\n",
       "  <tbody>\n",
       "    <tr>\n",
       "      <th>4</th>\n",
       "      <td>6</td>\n",
       "      <td>MAE</td>\n",
       "      <td>Mean Absolute Error</td>\n",
       "      <td>Average of the absolute value of each individu...</td>\n",
       "      <td>False</td>\n",
       "    </tr>\n",
       "  </tbody>\n",
       "</table>\n",
       "</div>"
      ],
      "text/plain": [
       "   Id Abbreviation                 Name  \\\n",
       "4   6          MAE  Mean Absolute Error   \n",
       "\n",
       "                                         Description  IsMax  \n",
       "4  Average of the absolute value of each individu...  False  "
      ]
     },
     "execution_count": 40,
     "metadata": {},
     "output_type": "execute_result"
    }
   ],
   "source": [
    "dataEval[dataEval.Id == 6]"
   ]
  },
  {
   "cell_type": "code",
   "execution_count": 58,
   "metadata": {
    "collapsed": true
   },
   "outputs": [],
   "source": [
    "def findMaxScores(IDList, teamNumber):\n",
    "    beta = pd.DataFrame(data = [], columns = dataSubm.columns.values.tolist() + ['CompetitionId'])\n",
    "    for compID in IDList:\n",
    "        curCompTeams = dataTeams[dataTeams.CompetitionId == compID][dataTeams.Ranking <= teamNumber]\n",
    "        for teamID in curCompTeams.Id:\n",
    "            K = dataSubm[dataSubm.Id == dataSubm.Id[dataSubm[dataSubm.TeamId == teamID].PrivateScore.idxmax()]]\n",
    "            K['CompetitionId'] = int(compID)\n",
    "            beta = beta.append(K)\n",
    "    \n",
    "    return beta\n",
    "\n",
    "def findMinScores(IDList, teamNumber):\n",
    "    beta = pd.DataFrame(data = [], columns = dataSubm.columns.values.tolist() + ['CompetitionId'])\n",
    "    for compID in IDList:\n",
    "        curCompTeams = dataTeams[dataTeams.CompetitionId == compID][dataTeams.Ranking <= teamNumber]\n",
    "        for teamID in curCompTeams.Id:\n",
    "            K = dataSubm[dataSubm.Id == dataSubm.Id[dataSubm[dataSubm.TeamId == teamID].PrivateScore.idxmin()]]\n",
    "            K['CompetitionId'] = int(compID)\n",
    "            beta = beta.append(K)\n",
    "    \n",
    "    return beta"
   ]
  },
  {
   "cell_type": "code",
   "execution_count": 9,
   "metadata": {
    "collapsed": true
   },
   "outputs": [],
   "source": [
    "AUCComps = dataComp[dataComp.EvaluationAlgorithmId == 5]"
   ]
  },
  {
   "cell_type": "code",
   "execution_count": 10,
   "metadata": {
    "collapsed": false
   },
   "outputs": [
    {
     "name": "stderr",
     "output_type": "stream",
     "text": [
      "/Library/Python/2.7/site-packages/pandas/core/frame.py:1825: UserWarning: Boolean Series key will be reindexed to match DataFrame index.\n",
      "  \"DataFrame index.\", UserWarning)\n",
      "/Library/Python/2.7/site-packages/ipykernel/__main__.py:7: SettingWithCopyWarning: \n",
      "A value is trying to be set on a copy of a slice from a DataFrame.\n",
      "Try using .loc[row_indexer,col_indexer] = value instead\n",
      "\n",
      "See the the caveats in the documentation: http://pandas.pydata.org/pandas-docs/stable/indexing.html#indexing-view-versus-copy\n"
     ]
    }
   ],
   "source": [
    "AUCsc = findMaxScores (AUCComps.Id, 5)"
   ]
  },
  {
   "cell_type": "code",
   "execution_count": 11,
   "metadata": {
    "collapsed": false
   },
   "outputs": [],
   "source": [
    "AUCsc.PrivateScore = AUCsc.PrivateScore.apply(lambda x: float(x))\n",
    "AUCsc.PublicScore = AUCsc.PublicScore.apply(lambda x: float(x))"
   ]
  },
  {
   "cell_type": "code",
   "execution_count": 12,
   "metadata": {
    "collapsed": false
   },
   "outputs": [],
   "source": [
    "AUCDF = AUCsc[['PrivateScore', 'PublicScore', 'CompetitionId']].copy().groupby('CompetitionId').mean()"
   ]
  },
  {
   "cell_type": "code",
   "execution_count": 43,
   "metadata": {
    "collapsed": false
   },
   "outputs": [
    {
     "data": {
      "text/html": [
       "<div>\n",
       "<table border=\"1\" class=\"dataframe\">\n",
       "  <thead>\n",
       "    <tr style=\"text-align: right;\">\n",
       "      <th></th>\n",
       "      <th>Id</th>\n",
       "      <th>CompetitionName</th>\n",
       "      <th>Title</th>\n",
       "      <th>BriefDescription</th>\n",
       "      <th>DateEnabled</th>\n",
       "      <th>Deadline</th>\n",
       "      <th>HasLeaderboard</th>\n",
       "      <th>SolutionNumRows</th>\n",
       "      <th>EvaluationAlgorithmId</th>\n",
       "      <th>LeaderboardPercentage</th>\n",
       "      <th>...</th>\n",
       "      <th>RewardQuantity</th>\n",
       "      <th>CompetitionHostSegmentId</th>\n",
       "      <th>SolutionLastColumnWasLeaderboardUsageIndicator</th>\n",
       "      <th>ModelSubmissionDeadline</th>\n",
       "      <th>EnableSubmissionModelHashes</th>\n",
       "      <th>EnableSubmissionModelAttachments</th>\n",
       "      <th>MaxTeamSize</th>\n",
       "      <th>HyperParameters</th>\n",
       "      <th>CanQualifyTalent</th>\n",
       "      <th>EvaluationAlgorithmParameters</th>\n",
       "    </tr>\n",
       "  </thead>\n",
       "  <tbody>\n",
       "    <tr>\n",
       "      <th>41</th>\n",
       "      <td>2752</td>\n",
       "      <td>webspam</td>\n",
       "      <td>Обнаружение веб-спама</td>\n",
       "      <td>Соревнование в рамках курса ШАД \"Веб-Графы\"</td>\n",
       "      <td>2012-02-20</td>\n",
       "      <td>2012-06-01</td>\n",
       "      <td>True</td>\n",
       "      <td>114529</td>\n",
       "      <td>5</td>\n",
       "      <td>2</td>\n",
       "      <td>...</td>\n",
       "      <td>NaN</td>\n",
       "      <td>1</td>\n",
       "      <td>False</td>\n",
       "      <td>NaN</td>\n",
       "      <td>False</td>\n",
       "      <td>False</td>\n",
       "      <td>NaN</td>\n",
       "      <td>NaN</td>\n",
       "      <td>False</td>\n",
       "      <td>NaN</td>\n",
       "    </tr>\n",
       "  </tbody>\n",
       "</table>\n",
       "<p>1 rows × 29 columns</p>\n",
       "</div>"
      ],
      "text/plain": [
       "      Id CompetitionName                  Title  \\\n",
       "41  2752         webspam  Обнаружение веб-спама   \n",
       "\n",
       "                               BriefDescription DateEnabled   Deadline  \\\n",
       "41  Соревнование в рамках курса ШАД \"Веб-Графы\"  2012-02-20 2012-06-01   \n",
       "\n",
       "   HasLeaderboard  SolutionNumRows  EvaluationAlgorithmId  \\\n",
       "41           True           114529                      5   \n",
       "\n",
       "    LeaderboardPercentage              ...                RewardQuantity  \\\n",
       "41                      2              ...                           NaN   \n",
       "\n",
       "    CompetitionHostSegmentId  SolutionLastColumnWasLeaderboardUsageIndicator  \\\n",
       "41                         1                                           False   \n",
       "\n",
       "    ModelSubmissionDeadline EnableSubmissionModelHashes  \\\n",
       "41                      NaN                       False   \n",
       "\n",
       "   EnableSubmissionModelAttachments  MaxTeamSize HyperParameters  \\\n",
       "41                            False          NaN             NaN   \n",
       "\n",
       "    CanQualifyTalent  EvaluationAlgorithmParameters  \n",
       "41             False                            NaN  \n",
       "\n",
       "[1 rows x 29 columns]"
      ]
     },
     "execution_count": 43,
     "metadata": {},
     "output_type": "execute_result"
    }
   ],
   "source": [
    "dataComp[dataComp.Id == 2752]"
   ]
  },
  {
   "cell_type": "code",
   "execution_count": 15,
   "metadata": {
    "collapsed": false
   },
   "outputs": [
    {
     "data": {
      "text/html": [
       "<div>\n",
       "<table border=\"1\" class=\"dataframe\">\n",
       "  <thead>\n",
       "    <tr style=\"text-align: right;\">\n",
       "      <th></th>\n",
       "      <th>Id</th>\n",
       "      <th>CompetitionName</th>\n",
       "      <th>Title</th>\n",
       "      <th>BriefDescription</th>\n",
       "      <th>DateEnabled</th>\n",
       "      <th>Deadline</th>\n",
       "      <th>HasLeaderboard</th>\n",
       "      <th>SolutionNumRows</th>\n",
       "      <th>EvaluationAlgorithmId</th>\n",
       "      <th>LeaderboardPercentage</th>\n",
       "      <th>...</th>\n",
       "      <th>RewardQuantity</th>\n",
       "      <th>CompetitionHostSegmentId</th>\n",
       "      <th>SolutionLastColumnWasLeaderboardUsageIndicator</th>\n",
       "      <th>ModelSubmissionDeadline</th>\n",
       "      <th>EnableSubmissionModelHashes</th>\n",
       "      <th>EnableSubmissionModelAttachments</th>\n",
       "      <th>MaxTeamSize</th>\n",
       "      <th>HyperParameters</th>\n",
       "      <th>CanQualifyTalent</th>\n",
       "      <th>EvaluationAlgorithmParameters</th>\n",
       "    </tr>\n",
       "  </thead>\n",
       "  <tbody>\n",
       "    <tr>\n",
       "      <th>72</th>\n",
       "      <td>3126</td>\n",
       "      <td>algorithmic-composition</td>\n",
       "      <td>Algorithmic composition</td>\n",
       "      <td>Классификация с помощью алгоритмических композ...</td>\n",
       "      <td>2012-09-11</td>\n",
       "      <td>2012-11-09</td>\n",
       "      <td>True</td>\n",
       "      <td>551</td>\n",
       "      <td>5</td>\n",
       "      <td>100</td>\n",
       "      <td>...</td>\n",
       "      <td>1</td>\n",
       "      <td>1</td>\n",
       "      <td>True</td>\n",
       "      <td>NaN</td>\n",
       "      <td>False</td>\n",
       "      <td>False</td>\n",
       "      <td>NaN</td>\n",
       "      <td>&lt;parameters/&gt;</td>\n",
       "      <td>False</td>\n",
       "      <td>NaN</td>\n",
       "    </tr>\n",
       "  </tbody>\n",
       "</table>\n",
       "<p>1 rows × 29 columns</p>\n",
       "</div>"
      ],
      "text/plain": [
       "      Id          CompetitionName                    Title  \\\n",
       "72  3126  algorithmic-composition  Algorithmic composition   \n",
       "\n",
       "                                     BriefDescription DateEnabled   Deadline  \\\n",
       "72  Классификация с помощью алгоритмических композ...  2012-09-11 2012-11-09   \n",
       "\n",
       "   HasLeaderboard  SolutionNumRows  EvaluationAlgorithmId  \\\n",
       "72           True              551                      5   \n",
       "\n",
       "    LeaderboardPercentage              ...                RewardQuantity  \\\n",
       "72                    100              ...                             1   \n",
       "\n",
       "    CompetitionHostSegmentId  SolutionLastColumnWasLeaderboardUsageIndicator  \\\n",
       "72                         1                                            True   \n",
       "\n",
       "    ModelSubmissionDeadline EnableSubmissionModelHashes  \\\n",
       "72                      NaN                       False   \n",
       "\n",
       "   EnableSubmissionModelAttachments  MaxTeamSize HyperParameters  \\\n",
       "72                            False          NaN   <parameters/>   \n",
       "\n",
       "    CanQualifyTalent  EvaluationAlgorithmParameters  \n",
       "72             False                            NaN  \n",
       "\n",
       "[1 rows x 29 columns]"
      ]
     },
     "execution_count": 15,
     "metadata": {},
     "output_type": "execute_result"
    }
   ],
   "source": [
    "dataComp[dataComp.Id == 3126]"
   ]
  },
  {
   "cell_type": "code",
   "execution_count": 16,
   "metadata": {
    "collapsed": false
   },
   "outputs": [
    {
     "data": {
      "text/html": [
       "<div>\n",
       "<table border=\"1\" class=\"dataframe\">\n",
       "  <thead>\n",
       "    <tr style=\"text-align: right;\">\n",
       "      <th></th>\n",
       "      <th>Id</th>\n",
       "      <th>CompetitionName</th>\n",
       "      <th>Title</th>\n",
       "      <th>BriefDescription</th>\n",
       "      <th>DateEnabled</th>\n",
       "      <th>Deadline</th>\n",
       "      <th>HasLeaderboard</th>\n",
       "      <th>SolutionNumRows</th>\n",
       "      <th>EvaluationAlgorithmId</th>\n",
       "      <th>LeaderboardPercentage</th>\n",
       "      <th>...</th>\n",
       "      <th>RewardQuantity</th>\n",
       "      <th>CompetitionHostSegmentId</th>\n",
       "      <th>SolutionLastColumnWasLeaderboardUsageIndicator</th>\n",
       "      <th>ModelSubmissionDeadline</th>\n",
       "      <th>EnableSubmissionModelHashes</th>\n",
       "      <th>EnableSubmissionModelAttachments</th>\n",
       "      <th>MaxTeamSize</th>\n",
       "      <th>HyperParameters</th>\n",
       "      <th>CanQualifyTalent</th>\n",
       "      <th>EvaluationAlgorithmParameters</th>\n",
       "    </tr>\n",
       "  </thead>\n",
       "  <tbody>\n",
       "    <tr>\n",
       "      <th>120</th>\n",
       "      <td>3507</td>\n",
       "      <td>the-icml-2013-bird-challenge</td>\n",
       "      <td>The ICML 2013 Bird Challenge</td>\n",
       "      <td>Identify bird species from continuous audio re...</td>\n",
       "      <td>2013-05-08</td>\n",
       "      <td>2013-06-17</td>\n",
       "      <td>True</td>\n",
       "      <td>3150</td>\n",
       "      <td>5</td>\n",
       "      <td>33</td>\n",
       "      <td>...</td>\n",
       "      <td>500</td>\n",
       "      <td>2</td>\n",
       "      <td>True</td>\n",
       "      <td>NaN</td>\n",
       "      <td>False</td>\n",
       "      <td>False</td>\n",
       "      <td>NaN</td>\n",
       "      <td>&lt;parameters/&gt;</td>\n",
       "      <td>True</td>\n",
       "      <td>NaN</td>\n",
       "    </tr>\n",
       "  </tbody>\n",
       "</table>\n",
       "<p>1 rows × 29 columns</p>\n",
       "</div>"
      ],
      "text/plain": [
       "       Id               CompetitionName                         Title  \\\n",
       "120  3507  the-icml-2013-bird-challenge  The ICML 2013 Bird Challenge   \n",
       "\n",
       "                                      BriefDescription DateEnabled   Deadline  \\\n",
       "120  Identify bird species from continuous audio re...  2013-05-08 2013-06-17   \n",
       "\n",
       "    HasLeaderboard  SolutionNumRows  EvaluationAlgorithmId  \\\n",
       "120           True             3150                      5   \n",
       "\n",
       "     LeaderboardPercentage              ...                RewardQuantity  \\\n",
       "120                     33              ...                           500   \n",
       "\n",
       "     CompetitionHostSegmentId  SolutionLastColumnWasLeaderboardUsageIndicator  \\\n",
       "120                         2                                            True   \n",
       "\n",
       "     ModelSubmissionDeadline EnableSubmissionModelHashes  \\\n",
       "120                      NaN                       False   \n",
       "\n",
       "    EnableSubmissionModelAttachments  MaxTeamSize HyperParameters  \\\n",
       "120                            False          NaN   <parameters/>   \n",
       "\n",
       "     CanQualifyTalent  EvaluationAlgorithmParameters  \n",
       "120              True                            NaN  \n",
       "\n",
       "[1 rows x 29 columns]"
      ]
     },
     "execution_count": 16,
     "metadata": {},
     "output_type": "execute_result"
    }
   ],
   "source": [
    "dataComp[dataComp.Id == 3507]"
   ]
  },
  {
   "cell_type": "code",
   "execution_count": 17,
   "metadata": {
    "collapsed": false
   },
   "outputs": [
    {
     "data": {
      "text/html": [
       "<div>\n",
       "<table border=\"1\" class=\"dataframe\">\n",
       "  <thead>\n",
       "    <tr style=\"text-align: right;\">\n",
       "      <th></th>\n",
       "      <th>Id</th>\n",
       "      <th>CompetitionName</th>\n",
       "      <th>Title</th>\n",
       "      <th>BriefDescription</th>\n",
       "      <th>DateEnabled</th>\n",
       "      <th>Deadline</th>\n",
       "      <th>HasLeaderboard</th>\n",
       "      <th>SolutionNumRows</th>\n",
       "      <th>EvaluationAlgorithmId</th>\n",
       "      <th>LeaderboardPercentage</th>\n",
       "      <th>...</th>\n",
       "      <th>RewardQuantity</th>\n",
       "      <th>CompetitionHostSegmentId</th>\n",
       "      <th>SolutionLastColumnWasLeaderboardUsageIndicator</th>\n",
       "      <th>ModelSubmissionDeadline</th>\n",
       "      <th>EnableSubmissionModelHashes</th>\n",
       "      <th>EnableSubmissionModelAttachments</th>\n",
       "      <th>MaxTeamSize</th>\n",
       "      <th>HyperParameters</th>\n",
       "      <th>CanQualifyTalent</th>\n",
       "      <th>EvaluationAlgorithmParameters</th>\n",
       "    </tr>\n",
       "  </thead>\n",
       "  <tbody>\n",
       "    <tr>\n",
       "      <th>171</th>\n",
       "      <td>3933</td>\n",
       "      <td>mlsp-2014-mri</td>\n",
       "      <td>MLSP 2014 Schizophrenia Classification Challenge</td>\n",
       "      <td>Diagnose schizophrenia using multimodal featur...</td>\n",
       "      <td>2014-06-05</td>\n",
       "      <td>2014-07-20</td>\n",
       "      <td>True</td>\n",
       "      <td>2</td>\n",
       "      <td>5</td>\n",
       "      <td>0</td>\n",
       "      <td>...</td>\n",
       "      <td>0</td>\n",
       "      <td>2</td>\n",
       "      <td>True</td>\n",
       "      <td>NaN</td>\n",
       "      <td>False</td>\n",
       "      <td>False</td>\n",
       "      <td>NaN</td>\n",
       "      <td>NaN</td>\n",
       "      <td>True</td>\n",
       "      <td>&lt;parametersSchema type=\"Kaggle.Metrics.EmptyEv...</td>\n",
       "    </tr>\n",
       "  </tbody>\n",
       "</table>\n",
       "<p>1 rows × 29 columns</p>\n",
       "</div>"
      ],
      "text/plain": [
       "       Id CompetitionName                                             Title  \\\n",
       "171  3933   mlsp-2014-mri  MLSP 2014 Schizophrenia Classification Challenge   \n",
       "\n",
       "                                      BriefDescription DateEnabled   Deadline  \\\n",
       "171  Diagnose schizophrenia using multimodal featur...  2014-06-05 2014-07-20   \n",
       "\n",
       "    HasLeaderboard  SolutionNumRows  EvaluationAlgorithmId  \\\n",
       "171           True                2                      5   \n",
       "\n",
       "     LeaderboardPercentage                        ...                          \\\n",
       "171                      0                        ...                           \n",
       "\n",
       "     RewardQuantity  CompetitionHostSegmentId  \\\n",
       "171               0                         2   \n",
       "\n",
       "     SolutionLastColumnWasLeaderboardUsageIndicator  ModelSubmissionDeadline  \\\n",
       "171                                            True                      NaN   \n",
       "\n",
       "    EnableSubmissionModelHashes EnableSubmissionModelAttachments  MaxTeamSize  \\\n",
       "171                       False                            False          NaN   \n",
       "\n",
       "    HyperParameters  CanQualifyTalent  \\\n",
       "171             NaN              True   \n",
       "\n",
       "                         EvaluationAlgorithmParameters  \n",
       "171  <parametersSchema type=\"Kaggle.Metrics.EmptyEv...  \n",
       "\n",
       "[1 rows x 29 columns]"
      ]
     },
     "execution_count": 17,
     "metadata": {},
     "output_type": "execute_result"
    }
   ],
   "source": [
    "dataComp[dataComp.Id == 3933]"
   ]
  },
  {
   "cell_type": "code",
   "execution_count": 18,
   "metadata": {
    "collapsed": false
   },
   "outputs": [],
   "source": [
    "AUCDF['Label'] = ''"
   ]
  },
  {
   "cell_type": "code",
   "execution_count": 19,
   "metadata": {
    "collapsed": false
   },
   "outputs": [
    {
     "name": "stderr",
     "output_type": "stream",
     "text": [
      "/Library/Python/2.7/site-packages/ipykernel/__main__.py:1: SettingWithCopyWarning: \n",
      "A value is trying to be set on a copy of a slice from a DataFrame\n",
      "\n",
      "See the the caveats in the documentation: http://pandas.pydata.org/pandas-docs/stable/indexing.html#indexing-view-versus-copy\n",
      "  if __name__ == '__main__':\n",
      "/Library/Python/2.7/site-packages/ipykernel/__main__.py:2: SettingWithCopyWarning: \n",
      "A value is trying to be set on a copy of a slice from a DataFrame\n",
      "\n",
      "See the the caveats in the documentation: http://pandas.pydata.org/pandas-docs/stable/indexing.html#indexing-view-versus-copy\n",
      "  from ipykernel import kernelapp as app\n",
      "/Library/Python/2.7/site-packages/ipykernel/__main__.py:3: SettingWithCopyWarning: \n",
      "A value is trying to be set on a copy of a slice from a DataFrame\n",
      "\n",
      "See the the caveats in the documentation: http://pandas.pydata.org/pandas-docs/stable/indexing.html#indexing-view-versus-copy\n",
      "  app.launch_new_instance()\n",
      "/Library/Python/2.7/site-packages/ipykernel/__main__.py:4: SettingWithCopyWarning: \n",
      "A value is trying to be set on a copy of a slice from a DataFrame\n",
      "\n",
      "See the the caveats in the documentation: http://pandas.pydata.org/pandas-docs/stable/indexing.html#indexing-view-versus-copy\n"
     ]
    }
   ],
   "source": [
    "AUCDF.Label[2752] = 'Web-spam diagnostic'\n",
    "AUCDF.Label[3126] = 'Algorithmic composition'\n",
    "AUCDF.Label[3507] = 'The ICML 2013 \\n Bird Challenge'\n",
    "AUCDF.Label[3933] = 'MLSP 2014 Schizophrenia Classification'"
   ]
  },
  {
   "cell_type": "code",
   "execution_count": 20,
   "metadata": {
    "collapsed": false
   },
   "outputs": [
    {
     "data": {
      "text/plain": [
       "<ggplot: (285333665)>"
      ]
     },
     "execution_count": 20,
     "metadata": {},
     "output_type": "execute_result"
    }
   ],
   "source": [
    "AUCplot = ggplot(aes(x='PrivateScore',y = 'PublicScore', label = 'Label'), data=AUCDF)\n",
    "AUCplot + geom_point() + xlim(-0.1,1.1) + ylim(-0.1,1.1) + geom_text(hjust=-0.1, vjust=-0.05)"
   ]
  },
  {
   "cell_type": "code",
   "execution_count": 21,
   "metadata": {
    "collapsed": true
   },
   "outputs": [],
   "source": [
    "CAComps = dataComp[dataComp.EvaluationAlgorithmId == 14]"
   ]
  },
  {
   "cell_type": "code",
   "execution_count": 22,
   "metadata": {
    "collapsed": false
   },
   "outputs": [
    {
     "name": "stderr",
     "output_type": "stream",
     "text": [
      "/Library/Python/2.7/site-packages/ipykernel/__main__.py:7: SettingWithCopyWarning: \n",
      "A value is trying to be set on a copy of a slice from a DataFrame.\n",
      "Try using .loc[row_indexer,col_indexer] = value instead\n",
      "\n",
      "See the the caveats in the documentation: http://pandas.pydata.org/pandas-docs/stable/indexing.html#indexing-view-versus-copy\n"
     ]
    }
   ],
   "source": [
    "CAsc = findMaxScores (CAComps.Id, 5)"
   ]
  },
  {
   "cell_type": "code",
   "execution_count": 23,
   "metadata": {
    "collapsed": true
   },
   "outputs": [],
   "source": [
    "CAsc.PrivateScore = CAsc.PrivateScore.apply(lambda x: float(x))\n",
    "CAsc.PublicScore = CAsc.PublicScore.apply(lambda x: float(x))"
   ]
  },
  {
   "cell_type": "code",
   "execution_count": 24,
   "metadata": {
    "collapsed": true
   },
   "outputs": [],
   "source": [
    "CADF = CAsc[['PrivateScore', 'PublicScore', 'CompetitionId']].copy().groupby('CompetitionId').mean()"
   ]
  },
  {
   "cell_type": "code",
   "execution_count": 25,
   "metadata": {
    "collapsed": false
   },
   "outputs": [
    {
     "data": {
      "text/html": [
       "<div>\n",
       "<table border=\"1\" class=\"dataframe\">\n",
       "  <thead>\n",
       "    <tr style=\"text-align: right;\">\n",
       "      <th></th>\n",
       "      <th>Id</th>\n",
       "      <th>CompetitionName</th>\n",
       "      <th>Title</th>\n",
       "      <th>BriefDescription</th>\n",
       "      <th>DateEnabled</th>\n",
       "      <th>Deadline</th>\n",
       "      <th>HasLeaderboard</th>\n",
       "      <th>SolutionNumRows</th>\n",
       "      <th>EvaluationAlgorithmId</th>\n",
       "      <th>LeaderboardPercentage</th>\n",
       "      <th>...</th>\n",
       "      <th>RewardQuantity</th>\n",
       "      <th>CompetitionHostSegmentId</th>\n",
       "      <th>SolutionLastColumnWasLeaderboardUsageIndicator</th>\n",
       "      <th>ModelSubmissionDeadline</th>\n",
       "      <th>EnableSubmissionModelHashes</th>\n",
       "      <th>EnableSubmissionModelAttachments</th>\n",
       "      <th>MaxTeamSize</th>\n",
       "      <th>HyperParameters</th>\n",
       "      <th>CanQualifyTalent</th>\n",
       "      <th>EvaluationAlgorithmParameters</th>\n",
       "    </tr>\n",
       "  </thead>\n",
       "  <tbody>\n",
       "    <tr>\n",
       "      <th>109</th>\n",
       "      <td>3439</td>\n",
       "      <td>handwritten-digits-recognition</td>\n",
       "      <td>Handwritten digits recognition</td>\n",
       "      <td>В этом задании вам предстоит реализовать алгор...</td>\n",
       "      <td>2013-03-15</td>\n",
       "      <td>2013-05-13</td>\n",
       "      <td>True</td>\n",
       "      <td>3177</td>\n",
       "      <td>14</td>\n",
       "      <td>100</td>\n",
       "      <td>...</td>\n",
       "      <td>NaN</td>\n",
       "      <td>1</td>\n",
       "      <td>True</td>\n",
       "      <td>NaN</td>\n",
       "      <td>False</td>\n",
       "      <td>False</td>\n",
       "      <td>NaN</td>\n",
       "      <td>&lt;parameters/&gt;</td>\n",
       "      <td>False</td>\n",
       "      <td>NaN</td>\n",
       "    </tr>\n",
       "  </tbody>\n",
       "</table>\n",
       "<p>1 rows × 29 columns</p>\n",
       "</div>"
      ],
      "text/plain": [
       "       Id                 CompetitionName                           Title  \\\n",
       "109  3439  handwritten-digits-recognition  Handwritten digits recognition   \n",
       "\n",
       "                                      BriefDescription DateEnabled   Deadline  \\\n",
       "109  В этом задании вам предстоит реализовать алгор...  2013-03-15 2013-05-13   \n",
       "\n",
       "    HasLeaderboard  SolutionNumRows  EvaluationAlgorithmId  \\\n",
       "109           True             3177                     14   \n",
       "\n",
       "     LeaderboardPercentage              ...                RewardQuantity  \\\n",
       "109                    100              ...                           NaN   \n",
       "\n",
       "     CompetitionHostSegmentId  SolutionLastColumnWasLeaderboardUsageIndicator  \\\n",
       "109                         1                                            True   \n",
       "\n",
       "     ModelSubmissionDeadline EnableSubmissionModelHashes  \\\n",
       "109                      NaN                       False   \n",
       "\n",
       "    EnableSubmissionModelAttachments  MaxTeamSize HyperParameters  \\\n",
       "109                            False          NaN   <parameters/>   \n",
       "\n",
       "     CanQualifyTalent  EvaluationAlgorithmParameters  \n",
       "109             False                            NaN  \n",
       "\n",
       "[1 rows x 29 columns]"
      ]
     },
     "execution_count": 25,
     "metadata": {},
     "output_type": "execute_result"
    }
   ],
   "source": [
    "dataComp[dataComp.Id == 3439]"
   ]
  },
  {
   "cell_type": "code",
   "execution_count": 26,
   "metadata": {
    "collapsed": false
   },
   "outputs": [
    {
     "data": {
      "text/html": [
       "<div>\n",
       "<table border=\"1\" class=\"dataframe\">\n",
       "  <thead>\n",
       "    <tr style=\"text-align: right;\">\n",
       "      <th></th>\n",
       "      <th>Id</th>\n",
       "      <th>CompetitionName</th>\n",
       "      <th>Title</th>\n",
       "      <th>BriefDescription</th>\n",
       "      <th>DateEnabled</th>\n",
       "      <th>Deadline</th>\n",
       "      <th>HasLeaderboard</th>\n",
       "      <th>SolutionNumRows</th>\n",
       "      <th>EvaluationAlgorithmId</th>\n",
       "      <th>LeaderboardPercentage</th>\n",
       "      <th>...</th>\n",
       "      <th>RewardQuantity</th>\n",
       "      <th>CompetitionHostSegmentId</th>\n",
       "      <th>SolutionLastColumnWasLeaderboardUsageIndicator</th>\n",
       "      <th>ModelSubmissionDeadline</th>\n",
       "      <th>EnableSubmissionModelHashes</th>\n",
       "      <th>EnableSubmissionModelAttachments</th>\n",
       "      <th>MaxTeamSize</th>\n",
       "      <th>HyperParameters</th>\n",
       "      <th>CanQualifyTalent</th>\n",
       "      <th>EvaluationAlgorithmParameters</th>\n",
       "    </tr>\n",
       "  </thead>\n",
       "  <tbody>\n",
       "    <tr>\n",
       "      <th>118</th>\n",
       "      <td>3497</td>\n",
       "      <td>missing-and-imbalanced-data</td>\n",
       "      <td>Missing and Imbalanced Data</td>\n",
       "      <td>Вам предстоит решить задачу классификации для ...</td>\n",
       "      <td>2013-04-26</td>\n",
       "      <td>2013-05-13</td>\n",
       "      <td>True</td>\n",
       "      <td>8000</td>\n",
       "      <td>14</td>\n",
       "      <td>100</td>\n",
       "      <td>...</td>\n",
       "      <td>NaN</td>\n",
       "      <td>1</td>\n",
       "      <td>True</td>\n",
       "      <td>NaN</td>\n",
       "      <td>False</td>\n",
       "      <td>False</td>\n",
       "      <td>NaN</td>\n",
       "      <td>&lt;parameters/&gt;</td>\n",
       "      <td>False</td>\n",
       "      <td>NaN</td>\n",
       "    </tr>\n",
       "  </tbody>\n",
       "</table>\n",
       "<p>1 rows × 29 columns</p>\n",
       "</div>"
      ],
      "text/plain": [
       "       Id              CompetitionName                        Title  \\\n",
       "118  3497  missing-and-imbalanced-data  Missing and Imbalanced Data   \n",
       "\n",
       "                                      BriefDescription DateEnabled   Deadline  \\\n",
       "118  Вам предстоит решить задачу классификации для ...  2013-04-26 2013-05-13   \n",
       "\n",
       "    HasLeaderboard  SolutionNumRows  EvaluationAlgorithmId  \\\n",
       "118           True             8000                     14   \n",
       "\n",
       "     LeaderboardPercentage              ...                RewardQuantity  \\\n",
       "118                    100              ...                           NaN   \n",
       "\n",
       "     CompetitionHostSegmentId  SolutionLastColumnWasLeaderboardUsageIndicator  \\\n",
       "118                         1                                            True   \n",
       "\n",
       "     ModelSubmissionDeadline EnableSubmissionModelHashes  \\\n",
       "118                      NaN                       False   \n",
       "\n",
       "    EnableSubmissionModelAttachments  MaxTeamSize HyperParameters  \\\n",
       "118                            False          NaN   <parameters/>   \n",
       "\n",
       "     CanQualifyTalent  EvaluationAlgorithmParameters  \n",
       "118             False                            NaN  \n",
       "\n",
       "[1 rows x 29 columns]"
      ]
     },
     "execution_count": 26,
     "metadata": {},
     "output_type": "execute_result"
    }
   ],
   "source": [
    "dataComp[dataComp.Id == 3497]"
   ]
  },
  {
   "cell_type": "code",
   "execution_count": 27,
   "metadata": {
    "collapsed": true
   },
   "outputs": [],
   "source": [
    "CADF['Label'] = ''"
   ]
  },
  {
   "cell_type": "code",
   "execution_count": 28,
   "metadata": {
    "collapsed": false
   },
   "outputs": [
    {
     "name": "stderr",
     "output_type": "stream",
     "text": [
      "/Library/Python/2.7/site-packages/ipykernel/__main__.py:1: SettingWithCopyWarning: \n",
      "A value is trying to be set on a copy of a slice from a DataFrame\n",
      "\n",
      "See the the caveats in the documentation: http://pandas.pydata.org/pandas-docs/stable/indexing.html#indexing-view-versus-copy\n",
      "  if __name__ == '__main__':\n",
      "/Library/Python/2.7/site-packages/ipykernel/__main__.py:2: SettingWithCopyWarning: \n",
      "A value is trying to be set on a copy of a slice from a DataFrame\n",
      "\n",
      "See the the caveats in the documentation: http://pandas.pydata.org/pandas-docs/stable/indexing.html#indexing-view-versus-copy\n",
      "  from ipykernel import kernelapp as app\n"
     ]
    }
   ],
   "source": [
    "CADF.Label[3439] = 'Handwritten digits recognition'\n",
    "CADF.Label[3497] = 'Missing and Imbalanced Data'"
   ]
  },
  {
   "cell_type": "code",
   "execution_count": 29,
   "metadata": {
    "collapsed": false
   },
   "outputs": [
    {
     "data": {
      "text/plain": [
       "<ggplot: (283489985)>"
      ]
     },
     "execution_count": 29,
     "metadata": {},
     "output_type": "execute_result"
    }
   ],
   "source": [
    "CAplot = ggplot(aes(x='PrivateScore',y = 'PublicScore', label = 'Label'), data=CADF)\n",
    "CAplot + geom_point() + xlim(-0.1,1.1) + ylim(-0.1,1.1) + geom_text(vjust=-0.05)"
   ]
  },
  {
   "cell_type": "code",
   "execution_count": 30,
   "metadata": {
    "collapsed": true
   },
   "outputs": [],
   "source": [
    "RMSEComps = dataComp[dataComp.EvaluationAlgorithmId == 2]"
   ]
  },
  {
   "cell_type": "code",
   "execution_count": 59,
   "metadata": {
    "collapsed": false
   },
   "outputs": [
    {
     "name": "stderr",
     "output_type": "stream",
     "text": [
      "/Library/Python/2.7/site-packages/ipykernel/__main__.py:18: SettingWithCopyWarning: \n",
      "A value is trying to be set on a copy of a slice from a DataFrame.\n",
      "Try using .loc[row_indexer,col_indexer] = value instead\n",
      "\n",
      "See the the caveats in the documentation: http://pandas.pydata.org/pandas-docs/stable/indexing.html#indexing-view-versus-copy\n"
     ]
    }
   ],
   "source": [
    "RMSEsc = findMinScores (RMSEComps.Id, 5)"
   ]
  },
  {
   "cell_type": "code",
   "execution_count": 60,
   "metadata": {
    "collapsed": true
   },
   "outputs": [],
   "source": [
    "RMSEsc.PrivateScore = RMSEsc.PrivateScore.apply(lambda x: float(x))\n",
    "RMSEsc.PublicScore = RMSEsc.PublicScore.apply(lambda x: float(x))"
   ]
  },
  {
   "cell_type": "code",
   "execution_count": 61,
   "metadata": {
    "collapsed": true
   },
   "outputs": [],
   "source": [
    "RMSEDF = RMSEsc[['PrivateScore', 'PublicScore', 'CompetitionId']].copy().groupby('CompetitionId').mean()"
   ]
  },
  {
   "cell_type": "code",
   "execution_count": 62,
   "metadata": {
    "collapsed": false
   },
   "outputs": [
    {
     "data": {
      "text/html": [
       "<div>\n",
       "<table border=\"1\" class=\"dataframe\">\n",
       "  <thead>\n",
       "    <tr style=\"text-align: right;\">\n",
       "      <th></th>\n",
       "      <th>PrivateScore</th>\n",
       "      <th>PublicScore</th>\n",
       "    </tr>\n",
       "    <tr>\n",
       "      <th>CompetitionId</th>\n",
       "      <th></th>\n",
       "      <th></th>\n",
       "    </tr>\n",
       "  </thead>\n",
       "  <tbody>\n",
       "    <tr>\n",
       "      <th>2447</th>\n",
       "      <td>0.695284</td>\n",
       "      <td>0.659395</td>\n",
       "    </tr>\n",
       "    <tr>\n",
       "      <th>2467</th>\n",
       "      <td>192.347198</td>\n",
       "      <td>207.376001</td>\n",
       "    </tr>\n",
       "    <tr>\n",
       "      <th>2487</th>\n",
       "      <td>0.015141</td>\n",
       "      <td>0.015042</td>\n",
       "    </tr>\n",
       "    <tr>\n",
       "      <th>2554</th>\n",
       "      <td>0.086726</td>\n",
       "      <td>0.086693</td>\n",
       "    </tr>\n",
       "    <tr>\n",
       "      <th>2555</th>\n",
       "      <td>3.051102</td>\n",
       "      <td>2.821722</td>\n",
       "    </tr>\n",
       "    <tr>\n",
       "      <th>2559</th>\n",
       "      <td>1.159176</td>\n",
       "      <td>1.240734</td>\n",
       "    </tr>\n",
       "    <tr>\n",
       "      <th>2589</th>\n",
       "      <td>0.772638</td>\n",
       "      <td>0.766263</td>\n",
       "    </tr>\n",
       "    <tr>\n",
       "      <th>2730</th>\n",
       "      <td>4.473191</td>\n",
       "      <td>4.633297</td>\n",
       "    </tr>\n",
       "    <tr>\n",
       "      <th>2963</th>\n",
       "      <td>13.276346</td>\n",
       "      <td>13.243869</td>\n",
       "    </tr>\n",
       "    <tr>\n",
       "      <th>3066</th>\n",
       "      <td>0.147735</td>\n",
       "      <td>0.147646</td>\n",
       "    </tr>\n",
       "    <tr>\n",
       "      <th>3154</th>\n",
       "      <td>0.082157</td>\n",
       "      <td>0.079732</td>\n",
       "    </tr>\n",
       "    <tr>\n",
       "      <th>3175</th>\n",
       "      <td>0.079208</td>\n",
       "      <td>0.079124</td>\n",
       "    </tr>\n",
       "    <tr>\n",
       "      <th>3385</th>\n",
       "      <td>0.245398</td>\n",
       "      <td>0.254982</td>\n",
       "    </tr>\n",
       "    <tr>\n",
       "      <th>3438</th>\n",
       "      <td>2.345550</td>\n",
       "      <td>2.885682</td>\n",
       "    </tr>\n",
       "    <tr>\n",
       "      <th>3477</th>\n",
       "      <td>1.222723</td>\n",
       "      <td>1.213053</td>\n",
       "    </tr>\n",
       "    <tr>\n",
       "      <th>3586</th>\n",
       "      <td>0.144399</td>\n",
       "      <td>0.143971</td>\n",
       "    </tr>\n",
       "    <tr>\n",
       "      <th>3617</th>\n",
       "      <td>0.033291</td>\n",
       "      <td>0.033308</td>\n",
       "    </tr>\n",
       "    <tr>\n",
       "      <th>3888</th>\n",
       "      <td>3.334094</td>\n",
       "      <td>3.343215</td>\n",
       "    </tr>\n",
       "    <tr>\n",
       "      <th>3890</th>\n",
       "      <td>0.006996</td>\n",
       "      <td>0.004165</td>\n",
       "    </tr>\n",
       "    <tr>\n",
       "      <th>3891</th>\n",
       "      <td>0.006546</td>\n",
       "      <td>0.007822</td>\n",
       "    </tr>\n",
       "    <tr>\n",
       "      <th>4080</th>\n",
       "      <td>0.859003</td>\n",
       "      <td>0.858884</td>\n",
       "    </tr>\n",
       "    <tr>\n",
       "      <th>4107</th>\n",
       "      <td>0.845681</td>\n",
       "      <td>0.845681</td>\n",
       "    </tr>\n",
       "    <tr>\n",
       "      <th>4174</th>\n",
       "      <td>0.632123</td>\n",
       "      <td>0.632123</td>\n",
       "    </tr>\n",
       "    <tr>\n",
       "      <th>4184</th>\n",
       "      <td>0.869091</td>\n",
       "      <td>0.867341</td>\n",
       "    </tr>\n",
       "    <tr>\n",
       "      <th>4193</th>\n",
       "      <td>0.782532</td>\n",
       "      <td>0.781989</td>\n",
       "    </tr>\n",
       "    <tr>\n",
       "      <th>4272</th>\n",
       "      <td>1731603.534983</td>\n",
       "      <td>1687775.297521</td>\n",
       "    </tr>\n",
       "    <tr>\n",
       "      <th>4363</th>\n",
       "      <td>0.000002</td>\n",
       "      <td>0.000002</td>\n",
       "    </tr>\n",
       "  </tbody>\n",
       "</table>\n",
       "</div>"
      ],
      "text/plain": [
       "                 PrivateScore     PublicScore\n",
       "CompetitionId                                \n",
       "2447                 0.695284        0.659395\n",
       "2467               192.347198      207.376001\n",
       "2487                 0.015141        0.015042\n",
       "2554                 0.086726        0.086693\n",
       "2555                 3.051102        2.821722\n",
       "2559                 1.159176        1.240734\n",
       "2589                 0.772638        0.766263\n",
       "2730                 4.473191        4.633297\n",
       "2963                13.276346       13.243869\n",
       "3066                 0.147735        0.147646\n",
       "3154                 0.082157        0.079732\n",
       "3175                 0.079208        0.079124\n",
       "3385                 0.245398        0.254982\n",
       "3438                 2.345550        2.885682\n",
       "3477                 1.222723        1.213053\n",
       "3586                 0.144399        0.143971\n",
       "3617                 0.033291        0.033308\n",
       "3888                 3.334094        3.343215\n",
       "3890                 0.006996        0.004165\n",
       "3891                 0.006546        0.007822\n",
       "4080                 0.859003        0.858884\n",
       "4107                 0.845681        0.845681\n",
       "4174                 0.632123        0.632123\n",
       "4184                 0.869091        0.867341\n",
       "4193                 0.782532        0.781989\n",
       "4272           1731603.534983  1687775.297521\n",
       "4363                 0.000002        0.000002"
      ]
     },
     "execution_count": 62,
     "metadata": {},
     "output_type": "execute_result"
    }
   ],
   "source": [
    "RMSEDF"
   ]
  },
  {
   "cell_type": "code",
   "execution_count": 64,
   "metadata": {
    "collapsed": false
   },
   "outputs": [
    {
     "data": {
      "text/html": [
       "<div>\n",
       "<table border=\"1\" class=\"dataframe\">\n",
       "  <thead>\n",
       "    <tr style=\"text-align: right;\">\n",
       "      <th></th>\n",
       "      <th>Id</th>\n",
       "      <th>CompetitionName</th>\n",
       "      <th>Title</th>\n",
       "      <th>BriefDescription</th>\n",
       "      <th>DateEnabled</th>\n",
       "      <th>Deadline</th>\n",
       "      <th>HasLeaderboard</th>\n",
       "      <th>SolutionNumRows</th>\n",
       "      <th>EvaluationAlgorithmId</th>\n",
       "      <th>LeaderboardPercentage</th>\n",
       "      <th>...</th>\n",
       "      <th>RewardQuantity</th>\n",
       "      <th>CompetitionHostSegmentId</th>\n",
       "      <th>SolutionLastColumnWasLeaderboardUsageIndicator</th>\n",
       "      <th>ModelSubmissionDeadline</th>\n",
       "      <th>EnableSubmissionModelHashes</th>\n",
       "      <th>EnableSubmissionModelAttachments</th>\n",
       "      <th>MaxTeamSize</th>\n",
       "      <th>HyperParameters</th>\n",
       "      <th>CanQualifyTalent</th>\n",
       "      <th>EvaluationAlgorithmParameters</th>\n",
       "    </tr>\n",
       "  </thead>\n",
       "  <tbody>\n",
       "    <tr>\n",
       "      <th>211</th>\n",
       "      <td>4272</td>\n",
       "      <td>restaurant-revenue-prediction</td>\n",
       "      <td>Restaurant Revenue Prediction</td>\n",
       "      <td>Predict annual restaurant sales based on objec...</td>\n",
       "      <td>2015-03-23</td>\n",
       "      <td>2015-05-04</td>\n",
       "      <td>True</td>\n",
       "      <td>2</td>\n",
       "      <td>2</td>\n",
       "      <td>0</td>\n",
       "      <td>...</td>\n",
       "      <td>30000</td>\n",
       "      <td>1</td>\n",
       "      <td>True</td>\n",
       "      <td>NaN</td>\n",
       "      <td>False</td>\n",
       "      <td>False</td>\n",
       "      <td>NaN</td>\n",
       "      <td>NaN</td>\n",
       "      <td>True</td>\n",
       "      <td>&lt;parametersSchema type=\"Kaggle.Metrics.EmptyEv...</td>\n",
       "    </tr>\n",
       "  </tbody>\n",
       "</table>\n",
       "<p>1 rows × 29 columns</p>\n",
       "</div>"
      ],
      "text/plain": [
       "       Id                CompetitionName                          Title  \\\n",
       "211  4272  restaurant-revenue-prediction  Restaurant Revenue Prediction   \n",
       "\n",
       "                                      BriefDescription DateEnabled   Deadline  \\\n",
       "211  Predict annual restaurant sales based on objec...  2015-03-23 2015-05-04   \n",
       "\n",
       "    HasLeaderboard  SolutionNumRows  EvaluationAlgorithmId  \\\n",
       "211           True                2                      2   \n",
       "\n",
       "     LeaderboardPercentage                        ...                          \\\n",
       "211                      0                        ...                           \n",
       "\n",
       "     RewardQuantity  CompetitionHostSegmentId  \\\n",
       "211           30000                         1   \n",
       "\n",
       "     SolutionLastColumnWasLeaderboardUsageIndicator  ModelSubmissionDeadline  \\\n",
       "211                                            True                      NaN   \n",
       "\n",
       "    EnableSubmissionModelHashes EnableSubmissionModelAttachments  MaxTeamSize  \\\n",
       "211                       False                            False          NaN   \n",
       "\n",
       "    HyperParameters  CanQualifyTalent  \\\n",
       "211             NaN              True   \n",
       "\n",
       "                         EvaluationAlgorithmParameters  \n",
       "211  <parametersSchema type=\"Kaggle.Metrics.EmptyEv...  \n",
       "\n",
       "[1 rows x 29 columns]"
      ]
     },
     "execution_count": 64,
     "metadata": {},
     "output_type": "execute_result"
    }
   ],
   "source": [
    "dataComp[dataComp.Id == 4272]"
   ]
  },
  {
   "cell_type": "code",
   "execution_count": 57,
   "metadata": {
    "collapsed": false
   },
   "outputs": [
    {
     "data": {
      "text/html": [
       "<div>\n",
       "<table border=\"1\" class=\"dataframe\">\n",
       "  <thead>\n",
       "    <tr style=\"text-align: right;\">\n",
       "      <th></th>\n",
       "      <th>Id</th>\n",
       "      <th>SubmittedUserId</th>\n",
       "      <th>DateSubmitted</th>\n",
       "      <th>TeamId</th>\n",
       "      <th>PrivateScore</th>\n",
       "      <th>PublicScore</th>\n",
       "      <th>IsSelected</th>\n",
       "      <th>ScoreStatus</th>\n",
       "      <th>IsAfterDeadline</th>\n",
       "      <th>DateScored</th>\n",
       "      <th>ScoringDurationMilliseconds</th>\n",
       "    </tr>\n",
       "  </thead>\n",
       "  <tbody>\n",
       "    <tr>\n",
       "      <th>342094</th>\n",
       "      <td>671442</td>\n",
       "      <td>182876</td>\n",
       "      <td>2014-04-08 11:09:39.266666</td>\n",
       "      <td>86300</td>\n",
       "      <td>0.007525926532357259</td>\n",
       "      <td>0.009601787620943153</td>\n",
       "      <td>False</td>\n",
       "      <td>1</td>\n",
       "      <td>False</td>\n",
       "      <td>2014-04-08 11:09:40.6515119</td>\n",
       "      <td>181</td>\n",
       "    </tr>\n",
       "  </tbody>\n",
       "</table>\n",
       "</div>"
      ],
      "text/plain": [
       "            Id  SubmittedUserId               DateSubmitted  TeamId  \\\n",
       "342094  671442           182876  2014-04-08 11:09:39.266666   86300   \n",
       "\n",
       "                PrivateScore           PublicScore IsSelected  ScoreStatus  \\\n",
       "342094  0.007525926532357259  0.009601787620943153      False            1   \n",
       "\n",
       "       IsAfterDeadline                   DateScored  \\\n",
       "342094           False  2014-04-08 11:09:40.6515119   \n",
       "\n",
       "        ScoringDurationMilliseconds  \n",
       "342094                          181  "
      ]
     },
     "execution_count": 57,
     "metadata": {},
     "output_type": "execute_result"
    }
   ],
   "source": [
    "dataSubm[dataSubm.TeamId == 86300]"
   ]
  },
  {
   "cell_type": "code",
   "execution_count": 34,
   "metadata": {
    "collapsed": false
   },
   "outputs": [
    {
     "data": {
      "text/plain": [
       "<ggplot: (283480513)>"
      ]
     },
     "execution_count": 34,
     "metadata": {},
     "output_type": "execute_result"
    }
   ],
   "source": [
    "RMSEplot = ggplot(aes(x='PrivateScore',y = 'PublicScore'), data=RMSEDF)\n",
    "RMSEplot + geom_point() "
   ]
  },
  {
   "cell_type": "code",
   "execution_count": null,
   "metadata": {
    "collapsed": true
   },
   "outputs": [],
   "source": []
  }
 ],
 "metadata": {
  "kernelspec": {
   "display_name": "Python 2",
   "language": "python",
   "name": "python2"
  },
  "language_info": {
   "codemirror_mode": {
    "name": "ipython",
    "version": 2
   },
   "file_extension": ".py",
   "mimetype": "text/x-python",
   "name": "python",
   "nbconvert_exporter": "python",
   "pygments_lexer": "ipython2",
   "version": "2.7.5"
  }
 },
 "nbformat": 4,
 "nbformat_minor": 0
}
